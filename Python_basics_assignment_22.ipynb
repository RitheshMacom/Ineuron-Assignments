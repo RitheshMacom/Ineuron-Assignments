{
 "cells": [
  {
   "cell_type": "markdown",
   "id": "a8f5ec5b",
   "metadata": {},
   "source": [
    "## Python Basics 22"
   ]
  },
  {
   "cell_type": "markdown",
   "id": "438e0458",
   "metadata": {},
   "source": [
    "### 1. What is the result of the code, and explain?\n",
    "##### X = 'iNeuron'\n",
    "#### def func():\n",
    "#### print(X)\n",
    "#### func()"
   ]
  },
  {
   "cell_type": "code",
   "execution_count": 5,
   "id": "721a8f20",
   "metadata": {},
   "outputs": [
    {
     "name": "stdout",
     "output_type": "stream",
     "text": [
      "iNeuron\n"
     ]
    }
   ],
   "source": [
    "#The global variables are accessible in side the functions in python. But we can not access function variable out side function. \n",
    "#Since x is golbal variable we are able to print it in side the function\n",
    "x = 'iNeuron'\n",
    "\n",
    "def func():\n",
    "    print(x)\n",
    "func()    "
   ]
  },
  {
   "cell_type": "markdown",
   "id": "dcdb9790",
   "metadata": {},
   "source": [
    "### 2. What is the result of the code, and explain?\n",
    "X = 'iNeuron'\n",
    "\n",
    "def func():\n",
    "\n",
    "    X = 'NI!'\n",
    "\n",
    "func()\n",
    "\n",
    "print(X)"
   ]
  },
  {
   "cell_type": "code",
   "execution_count": 6,
   "id": "92de03f8",
   "metadata": {},
   "outputs": [
    {
     "name": "stdout",
     "output_type": "stream",
     "text": [
      "iNeuron\n"
     ]
    }
   ],
   "source": [
    "#AS the variable X = 'INeuron' has global scope and the another variable 'X' inside the function() has local scope.\n",
    "#Hence,'X' global variable's value 'iNeuron' is printed when print(x) is called.\n",
    "\n",
    "x = 'iNeuron'\n",
    "def func():\n",
    "    x = 'NI!'\n",
    "    \n",
    "func()\n",
    "print(x)"
   ]
  },
  {
   "cell_type": "markdown",
   "id": "25bc7964",
   "metadata": {},
   "source": [
    "### 3. What does this code print, and why?\n",
    "X = 'iNeuron'\n",
    "\n",
    "def func():\n",
    "\n",
    "    X = 'NI!'\n",
    "    \n",
    "    print(X)\n",
    "\n",
    "func()\n",
    "\n",
    "print(X)"
   ]
  },
  {
   "cell_type": "code",
   "execution_count": 1,
   "id": "addc6504",
   "metadata": {},
   "outputs": [
    {
     "name": "stdout",
     "output_type": "stream",
     "text": [
      "NI\n",
      "INeuron\n"
     ]
    }
   ],
   "source": [
    "X = 'INeuron'\n",
    "def func():\n",
    "    X = 'NI'\n",
    "    print(X)\n",
    "    \n",
    "func()\n",
    "print(X)\n",
    "#The variable 'X' inside the func() has a local scope and hence, its value, 'NI' is printed when the func() call is made\n",
    "# Whereas the print('X') statement which is called outside the func(), prints the value 'iNeuron' as it has global scope.\n"
   ]
  },
  {
   "cell_type": "markdown",
   "id": "352a4ee1",
   "metadata": {},
   "source": [
    "### 4. What output does this code produce? Why?\n",
    "X = 'iNeuron'\n",
    "\n",
    "def func():\n",
    "\n",
    "    global X\n",
    "    \n",
    "    X = 'NI!'\n",
    "    \n",
    "    print(X)\n",
    "\n",
    "func()\n",
    "\n",
    "print(X)"
   ]
  },
  {
   "cell_type": "code",
   "execution_count": 3,
   "id": "d65a374c",
   "metadata": {},
   "outputs": [
    {
     "name": "stdout",
     "output_type": "stream",
     "text": [
      "NI\n"
     ]
    }
   ],
   "source": [
    "X = 'iNeuroon'\n",
    "def func():\n",
    "    global X\n",
    "    X = 'NI'\n",
    "func()\n",
    "print(X)\n",
    "#Eventhough, initially 'X' variable is having a default global scope, \n",
    "# the variable 'X' within the func() is explicitly given a global scope, by using the key word 'global'. It makes the 'X' variable\n",
    "# inside the func() global and it is the value of 'X' inside the func() that is made available across the program after \n",
    "# the func() call is made. Hence, the value 'NI' is printed when the print('X') is called outside the func() too."
   ]
  },
  {
   "cell_type": "markdown",
   "id": "85e52e3a",
   "metadata": {},
   "source": [
    "### 5. What about this code—what’s the output, and why?\n",
    "X = 'iNeuron'\n",
    "\n",
    "def func():\n",
    "\n",
    "    X = 'NI'\n",
    "    \n",
    "def nested():\n",
    "\n",
    "    print(X)\n",
    "\n",
    "nested()\n",
    "\n",
    "func()\n",
    "\n",
    "X\n"
   ]
  },
  {
   "cell_type": "code",
   "execution_count": 5,
   "id": "3350f13f",
   "metadata": {},
   "outputs": [
    {
     "name": "stdout",
     "output_type": "stream",
     "text": [
      "iNeuron\n"
     ]
    },
    {
     "data": {
      "text/plain": [
       "'iNeuron'"
      ]
     },
     "execution_count": 5,
     "metadata": {},
     "output_type": "execute_result"
    }
   ],
   "source": [
    "X = 'iNeuron'\n",
    "def func():\n",
    "    X = 'NI'\n",
    "def nested():\n",
    "    print(X)\n",
    "    \n",
    "nested()\n",
    "func()\n",
    "X\n",
    "#Hence, X = \"iNeuron\" is available inside nested() function and value 'iNeuron' is printed when print(x)\n",
    "# The another variable X='NI' inside the func() has local scope . Hence it is not available outside func()\n",
    "#As the variable X='iNeuron' has global scope and it is available through out the code block."
   ]
  },
  {
   "cell_type": "markdown",
   "id": "21110751",
   "metadata": {},
   "source": [
    "### 6. How about this code: what is its output in Python 3, and explain?\n",
    "X = 'kkl'\n",
    "\n",
    "def func():\n",
    "\n",
    "    X = 'NI'\n",
    "    \n",
    "    def nested():\n",
    "    \n",
    "        nonlocal X\n",
    "        \n",
    "        X = 'spam'\n",
    "        \n",
    "    nested()\n",
    "    \n",
    "    print(X)\n",
    "\n",
    "func()\n"
   ]
  },
  {
   "cell_type": "code",
   "execution_count": 6,
   "id": "23a878e8",
   "metadata": {},
   "outputs": [
    {
     "name": "stdout",
     "output_type": "stream",
     "text": [
      "spam\n"
     ]
    }
   ],
   "source": [
    "def func():\n",
    "    X = 'NI'\n",
    "    def nested():\n",
    "        nonlocal X\n",
    "        X = 'spam'\n",
    "    nested()\n",
    "    print(X)\n",
    "\n",
    "func()\n",
    "\n",
    "#Nonlocal variables are used in nested functions whose local scope is not defined. \n",
    "#This means that the variable can be neither in the local nor the global scope. it print the updated value from nested function\n"
   ]
  },
  {
   "cell_type": "code",
   "execution_count": null,
   "id": "df22bac7",
   "metadata": {},
   "outputs": [],
   "source": []
  }
 ],
 "metadata": {
  "kernelspec": {
   "display_name": "Python 3",
   "language": "python",
   "name": "python3"
  },
  "language_info": {
   "codemirror_mode": {
    "name": "ipython",
    "version": 3
   },
   "file_extension": ".py",
   "mimetype": "text/x-python",
   "name": "python",
   "nbconvert_exporter": "python",
   "pygments_lexer": "ipython3",
   "version": "3.8.8"
  }
 },
 "nbformat": 4,
 "nbformat_minor": 5
}
