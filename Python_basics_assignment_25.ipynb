{
 "cells": [
  {
   "cell_type": "markdown",
   "id": "30077b05",
   "metadata": {},
   "source": [
    "## Python basics 25"
   ]
  },
  {
   "cell_type": "markdown",
   "id": "cc3ad054",
   "metadata": {},
   "source": [
    "### 1) What is the difference between enclosing a list comprehension in square brackets and parentheses?"
   ]
  },
  {
   "cell_type": "code",
   "execution_count": 1,
   "id": "33ee7f35",
   "metadata": {},
   "outputs": [
    {
     "name": "stdout",
     "output_type": "stream",
     "text": [
      "List Comprehension: [0, 1, 2, 3, 4, 5, 6, 7, 8, 9]\n",
      "Generator expression: <generator object <genexpr> at 0x000001EC7F210C10>\n",
      "[0, 1, 2, 3, 4, 5, 6, 7, 8, 9]\n"
     ]
    }
   ],
   "source": [
    "#List Comprehension with square brackets produce list\n",
    "lst = [i for i in range(0,10)]\n",
    "print('List Comprehension:',lst)\n",
    "\n",
    "#List Comprehension with parentheses creates generators\n",
    "\n",
    "val = (i for i in range(0,10))\n",
    "print('Generator expression:',val)\n",
    "print(list(val))"
   ]
  },
  {
   "cell_type": "markdown",
   "id": "7ef6b6d9",
   "metadata": {},
   "source": [
    "### 2) What is the relationship between generators and iterators?"
   ]
  },
  {
   "cell_type": "code",
   "execution_count": 2,
   "id": "f59bf063",
   "metadata": {},
   "outputs": [
    {
     "name": "stdout",
     "output_type": "stream",
     "text": [
      "Apple\n",
      "Orange\n",
      "Banana\n"
     ]
    }
   ],
   "source": [
    "#An iterator is an object which contains a countable number of values and it is used to iterate over iterable objects like list, tuples etc using an iterator-\n",
    "#iter() keyword is used to create an iterator containing an iterable object.\n",
    "#next() keyword is used to call the next element in the iterable object.\n",
    "\n",
    "#Generator\n",
    "#It is another way of creating iterators in a simple way where it uses the keyword “yield” instead of returning it in a defined function\n",
    "#Generators are implemented using a function\n",
    "#Here, the yield function returns the data without affecting or exiting the function. \n",
    "#It will return a sequence of data in an iterable format where we need to iterate over the sequence to use the data as they won’t store the entire sequence in the memory\n",
    "#By using next() function we can iterate the output of generator function\n",
    "\n",
    "#Iterator\n",
    "iter_list = iter(['Apple','Orange','Banana'])\n",
    "print(next(iter_list))\n",
    "print(next(iter_list))\n",
    "print(next(iter_list))"
   ]
  },
  {
   "cell_type": "code",
   "execution_count": 3,
   "id": "de2c24df",
   "metadata": {},
   "outputs": [],
   "source": [
    "#Generator\n",
    "def sq_number(n):\n",
    "    for i in range(1,n+1):\n",
    "        yield i*i"
   ]
  },
  {
   "cell_type": "code",
   "execution_count": 4,
   "id": "e7ef5965",
   "metadata": {},
   "outputs": [],
   "source": [
    "lst = sq_number(8)"
   ]
  },
  {
   "cell_type": "code",
   "execution_count": 5,
   "id": "548d20f4",
   "metadata": {},
   "outputs": [
    {
     "data": {
      "text/plain": [
       "<generator object sq_number at 0x000001EC7F2904A0>"
      ]
     },
     "execution_count": 5,
     "metadata": {},
     "output_type": "execute_result"
    }
   ],
   "source": [
    "lst"
   ]
  },
  {
   "cell_type": "code",
   "execution_count": 6,
   "id": "b43c2cab",
   "metadata": {},
   "outputs": [
    {
     "name": "stdout",
     "output_type": "stream",
     "text": [
      "1\n",
      "4\n",
      "9\n",
      "16\n"
     ]
    }
   ],
   "source": [
    "print(next(lst))\n",
    "print(next(lst))\n",
    "print(next(lst))\n",
    "print(next(lst))"
   ]
  },
  {
   "cell_type": "markdown",
   "id": "27fbff0f",
   "metadata": {},
   "source": [
    "### 3) What are the signs that a function is a generator function?"
   ]
  },
  {
   "cell_type": "code",
   "execution_count": 7,
   "id": "14801afd",
   "metadata": {},
   "outputs": [],
   "source": [
    "#If a function contains at least one yield statement (it may contain other yield or return statements), it becomes a generator function. \n",
    "#Both yield and return will return some value from a function."
   ]
  },
  {
   "cell_type": "markdown",
   "id": "6a14cfbf",
   "metadata": {},
   "source": [
    "### 4) What is the purpose of a yield statement?"
   ]
  },
  {
   "cell_type": "code",
   "execution_count": 8,
   "id": "5fa5708b",
   "metadata": {},
   "outputs": [],
   "source": [
    "#The yield keyword converts the expression given into a generator function that gives back a generator object\n",
    "#yield provides a value to the code looping over the generator and pauses execution of the generator function."
   ]
  },
  {
   "cell_type": "markdown",
   "id": "2f943669",
   "metadata": {},
   "source": [
    "### 5) What is the relationship between map calls and list comprehensions? Make a comparison and contrast between the two."
   ]
  },
  {
   "cell_type": "code",
   "execution_count": 9,
   "id": "8de57f94",
   "metadata": {},
   "outputs": [],
   "source": [
    "           ###Map()\n",
    "#map() function is used to take a sequence and perform an operation on the all the data items and return the new sequence\n",
    "#The memory consumption while using map() function is less and efficient than List compression, as the values are returned on demand\n",
    "#Only one value is available in memory at any point of time  using map()\n",
    "#map() returns a map object which is a iterator object which returns the iterator on demand. \n",
    "# The output of map() has to be explicitly converted to approprite container type.\n",
    "#map() function has to passed two arguments the function which performs the operation and iterable.\n",
    "\n",
    "\n",
    "        ###List comprehension\n",
    "# List comprehension is used to create a list of elements and using a for loop , if statements etc. \n",
    "# Though List comprehension is compact way of coding, the for loop and if statements etc used in List comprehension uses more system\n",
    "# memory and entire output lists are  stored in system memory before it is returned or printed. It returns a List object.\n",
    "#List coprehension is more readable and returns list object. There is no need for converting the output to appropriate container type\n",
    "# as in case of map() output.\n",
    "\n"
   ]
  }
 ],
 "metadata": {
  "kernelspec": {
   "display_name": "Python 3",
   "language": "python",
   "name": "python3"
  },
  "language_info": {
   "codemirror_mode": {
    "name": "ipython",
    "version": 3
   },
   "file_extension": ".py",
   "mimetype": "text/x-python",
   "name": "python",
   "nbconvert_exporter": "python",
   "pygments_lexer": "ipython3",
   "version": "3.8.8"
  }
 },
 "nbformat": 4,
 "nbformat_minor": 5
}
