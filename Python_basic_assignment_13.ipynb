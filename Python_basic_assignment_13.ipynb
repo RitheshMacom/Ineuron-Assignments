{
 "cells": [
  {
   "cell_type": "markdown",
   "metadata": {},
   "source": [
    "## Python basics 13"
   ]
  },
  {
   "cell_type": "markdown",
   "metadata": {},
   "source": [
    "### 1. What advantages do Excel spreadsheets have over CSV spreadsheets?"
   ]
  },
  {
   "cell_type": "code",
   "execution_count": 1,
   "metadata": {},
   "outputs": [],
   "source": [
    "#Excel spreadsheets advantages over CSV spreadsheets\n",
    "\n",
    "#1. It is a binary file that holds information about all the worksheets in a workbook\n",
    "\n",
    "#2. An Excel not only stores data but can also do operations on the data\n",
    "\n",
    "#3. Files saved in excel cannot be opened or edited by text editors\n",
    "\n",
    "#4. Data analysics and manipulation can be done effectively and in a structured wa in excel\n",
    "\n",
    "#5. Apart from text, data can also be stored in form of charts and graphs\n",
    "\n",
    "#6. Excel can connect to external data sources to fetch data. You can use custom add-in in Excel to increase its functionality. \n",
    "\n",
    "#7. Excel allows for Review of Data with detailed tracking and commenting feature\n",
    "\n",
    "#8. In Excel, spreadsheets can have values of data types other than strings; cells can have different fonts, sizes, \n",
    "   #or color settings; cells can have varying widths and heights; adjacent cells can be merged\n",
    "   \n",
    " #9.Excel files with an extensive database are very much tough to store and to maintain, as there is a high chance of getting corrupt or crash.\n",
    "\n",
    "#10.Excel is Highly standardized with respect to data storage and related workings."
   ]
  },
  {
   "cell_type": "markdown",
   "metadata": {},
   "source": [
    "### 2.What do you pass to csv.reader() and csv.writer() to create reader and writer objects?"
   ]
  },
  {
   "cell_type": "code",
   "execution_count": 16,
   "metadata": {},
   "outputs": [
    {
     "name": "stdout",
     "output_type": "stream",
     "text": [
      "['', 'Yes', 'No']\n",
      "['0', '50', '12']\n",
      "['1', '20', '566']\n"
     ]
    }
   ],
   "source": [
    "import csv\n",
    "with open('data.csv') as csvfile:\n",
    "    exreader = csv.reader(csvfile)\n",
    "    for row in exreader:\n",
    "        print(row)"
   ]
  },
  {
   "cell_type": "code",
   "execution_count": 22,
   "metadata": {},
   "outputs": [],
   "source": [
    "#This will create writer object and marks_secured.csv file with the following content\n",
    "import csv\n",
    "with open('marks_secured.csv', 'w', newline='') as file:\n",
    "    writer = csv.writer(file)\n",
    "    writer.writerow([\"SN\", \"Marks\", \"student_name\"])\n",
    "    writer.writerow([1, 13, \"Mahesh\"])\n",
    "    writer.writerow([2, 18, \"Ramesh\"])"
   ]
  },
  {
   "cell_type": "markdown",
   "metadata": {},
   "source": [
    "### 3. What modes do File objects for reader and writer objects need to be opened in?"
   ]
  },
  {
   "cell_type": "code",
   "execution_count": 23,
   "metadata": {},
   "outputs": [],
   "source": [
    "#Read-Binary('rb') for reader objects\n",
    "#Write-Binary('wb') for writer objects"
   ]
  },
  {
   "cell_type": "markdown",
   "metadata": {},
   "source": [
    "### 4. What method takes a list argument and writes it to a CSV file?"
   ]
  },
  {
   "cell_type": "code",
   "execution_count": 24,
   "metadata": {},
   "outputs": [],
   "source": [
    "#The writerow() method takes a lists argument and writes it to a CSV file"
   ]
  },
  {
   "cell_type": "markdown",
   "metadata": {},
   "source": [
    "### 5. What do the keyword arguments delimiter and line terminator do?"
   ]
  },
  {
   "cell_type": "code",
   "execution_count": 26,
   "metadata": {},
   "outputs": [],
   "source": [
    "#The delimiter argument changes the string used to separate cells in a row. \n",
    "#The lineterminator argument changes the string used to separate rows.\n",
    "import csv\n",
    "csvFile = open('example.tsv', 'w', newline='')\n",
    "csvWriter = csv.writer(csvFile, delimiter='\\t', lineterminator='\\n\\n')\n",
    "#Passing delimeter='\\t' and lineterminator='\\n\\n'\n",
    "#changes the character between cells to a tab and the character between rows to two newlines. "
   ]
  },
  {
   "cell_type": "markdown",
   "metadata": {},
   "source": [
    "### 6. What function takes a string of JSON data and returns a Python data structure?"
   ]
  },
  {
   "cell_type": "code",
   "execution_count": null,
   "metadata": {},
   "outputs": [],
   "source": [
    "#json.loads()"
   ]
  },
  {
   "cell_type": "markdown",
   "metadata": {},
   "source": [
    "### 7. What function takes a Python data structure and returns a string of JSON data?"
   ]
  },
  {
   "cell_type": "code",
   "execution_count": null,
   "metadata": {},
   "outputs": [],
   "source": [
    "#json.dumps()"
   ]
  }
 ],
 "metadata": {
  "kernelspec": {
   "display_name": "Python 3",
   "language": "python",
   "name": "python3"
  },
  "language_info": {
   "codemirror_mode": {
    "name": "ipython",
    "version": 3
   },
   "file_extension": ".py",
   "mimetype": "text/x-python",
   "name": "python",
   "nbconvert_exporter": "python",
   "pygments_lexer": "ipython3",
   "version": "3.8.3"
  }
 },
 "nbformat": 4,
 "nbformat_minor": 4
}
