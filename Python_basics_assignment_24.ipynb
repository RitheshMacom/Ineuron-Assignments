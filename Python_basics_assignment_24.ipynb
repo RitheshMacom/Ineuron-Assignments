{
 "cells": [
  {
   "cell_type": "markdown",
   "id": "580af28c",
   "metadata": {},
   "source": [
    "## Python basics 24"
   ]
  },
  {
   "cell_type": "markdown",
   "id": "2a16d248",
   "metadata": {},
   "source": [
    "### 1. What is the relationship between def statements and lambda expressions ?"
   ]
  },
  {
   "cell_type": "code",
   "execution_count": 1,
   "id": "b17f1f63",
   "metadata": {},
   "outputs": [],
   "source": [
    "#Keyword def that marks the start of the function header. A function name to uniquely identify the function. \n",
    "#Function naming follows the same rules of writing identifiers in Python\n",
    "\n",
    "#lambdas are one-line methods without a name.\n",
    "#They work practically the same as any other method in Python\n",
    "#Lambdas differ from normal Python methods because they can have only one expression,\n",
    "#can't contain any statements and their return type is a function object"
   ]
  },
  {
   "cell_type": "markdown",
   "id": "94f15063",
   "metadata": {},
   "source": [
    "### 2. What is the benefit of lambda?"
   ]
  },
  {
   "cell_type": "code",
   "execution_count": 2,
   "id": "0b7762e6",
   "metadata": {},
   "outputs": [],
   "source": [
    "#Fewer Lines of code\n",
    "#A lambda is an anonymous or inline function which can be defined at the point where it is called.\n",
    "# lambda functions are built at excution time thereby reducing the overhead associated with calling a normal function"
   ]
  },
  {
   "cell_type": "markdown",
   "id": "01bd89d3",
   "metadata": {},
   "source": [
    "### 3.Compare and contrast map,filter,and reduce."
   ]
  },
  {
   "cell_type": "code",
   "execution_count": 3,
   "id": "2bb1d590",
   "metadata": {},
   "outputs": [
    {
     "name": "stdout",
     "output_type": "stream",
     "text": [
      "False\n",
      "False\n",
      "True\n",
      "True\n",
      "False\n"
     ]
    }
   ],
   "source": [
    "#### Map function\n",
    "#map applies as a transformation to an element.\n",
    "#The map() function iterates through all items in the given iterable and executes the function we \n",
    "#passed as an argument on each of them.\n",
    "Bikes = ['Bajaj','KTM','Hero','Honda','TVS']\n",
    "map_object = map(lambda x:x[0] == 'H',Bikes)\n",
    "\n",
    "for i in map_object:\n",
    "    print(i)"
   ]
  },
  {
   "cell_type": "code",
   "execution_count": 4,
   "id": "eebda379",
   "metadata": {},
   "outputs": [
    {
     "name": "stdout",
     "output_type": "stream",
     "text": [
      "Hero\n",
      "Honda\n"
     ]
    }
   ],
   "source": [
    "#### Filter function\n",
    "##filter accumulates only elements matching a condition.\n",
    "#filter() forms a new list that contains only elements that satisfy a certain condition, i.e. the function we \n",
    "#passed returns True\n",
    "Bikes = ['Bajaj','KTM','Hero','Honda','TVS']\n",
    "filter_object = filter(lambda x:x[0]=='H',Bikes)\n",
    "\n",
    "for i in filter_object:\n",
    "    print(i)"
   ]
  },
  {
   "cell_type": "code",
   "execution_count": 5,
   "id": "501e7483",
   "metadata": {},
   "outputs": [
    {
     "name": "stdout",
     "output_type": "stream",
     "text": [
      "16\n",
      "With an initial value:26\n"
     ]
    }
   ],
   "source": [
    "#### Reduce function\n",
    "#reduce accumulates all elements to a single value, by using immutable values\n",
    "#reduce() works by calling the function we passed for the first two items in the sequence. \n",
    "#The result returned by the function is used in another call to function alongside with the next (third in this case), element\n",
    "\n",
    "from functools import reduce\n",
    "\n",
    "list = [5,8,2,1]\n",
    "print(reduce(lambda x,y: x+y,list))\n",
    "print(\"With an initial value:\"+str(reduce(lambda x,y:x+y,list,10)))"
   ]
  },
  {
   "cell_type": "code",
   "execution_count": 6,
   "id": "1a5773d8",
   "metadata": {},
   "outputs": [
    {
     "name": "stdout",
     "output_type": "stream",
     "text": [
      "80\n"
     ]
    }
   ],
   "source": [
    "#Reduce function\n",
    "from functools import reduce\n",
    "\n",
    "def multiply(a,b):\n",
    "    return a*b\n",
    "list = [5,8,2,1]    \n",
    "print(reduce(multiply,list))    "
   ]
  },
  {
   "cell_type": "markdown",
   "id": "91c3c5e9",
   "metadata": {},
   "source": [
    "### 4. What are function annotations, and how are they used?"
   ]
  },
  {
   "cell_type": "code",
   "execution_count": 7,
   "id": "39e10b60",
   "metadata": {},
   "outputs": [
    {
     "name": "stdout",
     "output_type": "stream",
     "text": [
      "{'n': 'float', 'b': 'int', 'return': 'result'}\n"
     ]
    }
   ],
   "source": [
    "#Function annotation is the standard way to access the metadata with the arguments and the return value of the function.\n",
    "#These are nothing but some random and optional Python expressions that get allied to different parts of the function.\n",
    "#They get evaluated only during the compile-time and have no significance during the run-time of the code.\n",
    "#They do not have any significance or meaning associated with them until accessed by some third-party libraries.\n",
    "#They are used to type check the functions by declaring the type of the parameters and the return value for the functions.\n",
    "#The string-based annotations help us to improve the help messages.\n",
    "#Example\n",
    "def fib(n:'float',b:'int') ->'result':\n",
    "    pass\n",
    "print(fib.__annotations__)"
   ]
  },
  {
   "cell_type": "markdown",
   "id": "b37d2763",
   "metadata": {},
   "source": [
    "### 5. What are recursive functions, and how are they used?"
   ]
  },
  {
   "cell_type": "code",
   "execution_count": 8,
   "id": "d93834e6",
   "metadata": {},
   "outputs": [
    {
     "data": {
      "text/plain": [
       "24"
      ]
     },
     "execution_count": 8,
     "metadata": {},
     "output_type": "execute_result"
    }
   ],
   "source": [
    "#A recursive function is a function that calls itself during its execution. \n",
    "#This means that the function will continue to call itself and repeat its behavior until some condition is met to return a result\n",
    "def example(X):\n",
    "    if X == 1:\n",
    "        return 1\n",
    "    else:\n",
    "        return X * example(X-1) #recurtion\n",
    "example(4)"
   ]
  },
  {
   "cell_type": "markdown",
   "id": "89430a38",
   "metadata": {},
   "source": [
    "### 6. What are some general design guidelines for coding functions?"
   ]
  },
  {
   "cell_type": "code",
   "execution_count": 9,
   "id": "2b3347de",
   "metadata": {},
   "outputs": [],
   "source": [
    "#1. Use 4-space indentation and no tabs.\n",
    "#2. Use docstrings\n",
    "#3. Wrap linethat they don’t exceed 79 characters\n",
    "#4. Use of regular and updated comments are valuable to both the coders and users\n",
    "#5. Use of trailing commas : in case of tuple -> ('good',)\n",
    "#6. Use Python’s default UTF-8 or ASCII encodings and not any fancy encodings\n",
    "#7. Naming Conventions\n",
    "#8.Characters that should not be used for identifiers :\n",
    "    #‘l’ (lowercase letter el), \n",
    "    #‘O’ (uppercase letter oh), \n",
    "    #‘I’ (uppercase letter eye) as single character variable names as these are similar to the numerals one and zero.\n",
    "#9. Don’t use non-ASCII characters in identifiers\n",
    "#10. Name your classes and functions consistently\n",
    "#11. While naming of function of methods always use self for the first argument"
   ]
  },
  {
   "cell_type": "markdown",
   "id": "e5c1da09",
   "metadata": {},
   "source": [
    "### 7. Name three or more ways that functions can communicate results to a caller."
   ]
  },
  {
   "cell_type": "code",
   "execution_count": 10,
   "id": "8d105465",
   "metadata": {},
   "outputs": [],
   "source": [
    "#Return without any expression or value. It returns None\n",
    "#Return multiple values by using lists/tuples/dictionaries\n",
    "#using print() funtion to return values\n",
    "#modifying the mutable objects passed , thereby changing the reference values of object passed."
   ]
  },
  {
   "cell_type": "code",
   "execution_count": null,
   "id": "8b7dd3fa",
   "metadata": {},
   "outputs": [],
   "source": []
  }
 ],
 "metadata": {
  "kernelspec": {
   "display_name": "Python 3",
   "language": "python",
   "name": "python3"
  },
  "language_info": {
   "codemirror_mode": {
    "name": "ipython",
    "version": 3
   },
   "file_extension": ".py",
   "mimetype": "text/x-python",
   "name": "python",
   "nbconvert_exporter": "python",
   "pygments_lexer": "ipython3",
   "version": "3.8.8"
  }
 },
 "nbformat": 4,
 "nbformat_minor": 5
}
