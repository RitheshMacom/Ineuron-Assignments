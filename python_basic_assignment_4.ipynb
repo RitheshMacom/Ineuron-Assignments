{
 "cells": [
  {
   "cell_type": "code",
   "execution_count": 3,
   "metadata": {},
   "outputs": [
    {
     "name": "stdout",
     "output_type": "stream",
     "text": [
      "[5, 6.7, 'string', True, (1, 2, 3), ['x', 'y', 'z']]\n"
     ]
    }
   ],
   "source": [
    "#1. What exactly is []?\n",
    "#(A) The symbol [] square bracet is used to define a list\n",
    "#it holds an ordered group of elements,which are mutable and iterable\n",
    "l = [5,6.7,\"string\",True,(1,2,3),[\"x\",\"y\",\"z\"]]\n",
    "print(l)"
   ]
  },
  {
   "cell_type": "code",
   "execution_count": 6,
   "metadata": {},
   "outputs": [
    {
     "name": "stdout",
     "output_type": "stream",
     "text": [
      "[2, 4, 6, 8, 10]\n",
      "[2, 4, 'Hello', 6, 8, 10]\n"
     ]
    }
   ],
   "source": [
    "#2. In a list of values stored in a variable called spam, how would you assign the value 'hello' as the third value? \n",
    "#(Assume [2, 4, 6, 8, 10] are in spam.)\n",
    "#(A) \n",
    "spam = [2,4,6,8,10]\n",
    "print(spam)\n",
    "spam.insert(2,\"Hello\")\n",
    "print(spam)"
   ]
  },
  {
   "cell_type": "code",
   "execution_count": 11,
   "metadata": {},
   "outputs": [],
   "source": [
    "spam = [\"a\",\"b\",\"c\",\"d\"]"
   ]
  },
  {
   "cell_type": "code",
   "execution_count": 19,
   "metadata": {},
   "outputs": [
    {
     "name": "stdout",
     "output_type": "stream",
     "text": [
      "d\n",
      "d\n",
      "['a', 'b']\n"
     ]
    }
   ],
   "source": [
    "#3. What is the value of spam[int(int('3' * '2') / 11)]?\n",
    "print(spam[int(int('3' * 2) / 11)])\n",
    "\n",
    "#4. What is the value of spam[-1]?\n",
    "#(A)\n",
    "print(spam[-1])\n",
    "\n",
    "#5What is the value of spam[:2]?\n",
    "#(A)\n",
    "print(spam[:2])\n"
   ]
  },
  {
   "cell_type": "code",
   "execution_count": 31,
   "metadata": {},
   "outputs": [],
   "source": [
    "bacon = [3.14,'cat',11,'cat',True]"
   ]
  },
  {
   "cell_type": "code",
   "execution_count": 32,
   "metadata": {},
   "outputs": [
    {
     "name": "stdout",
     "output_type": "stream",
     "text": [
      "1\n",
      "[3.14, 'cat', 11, 'cat', True, 99]\n",
      "[3.14, 11, 'cat', True, 99]\n"
     ]
    }
   ],
   "source": [
    "#6. What is the value of bacon.index('cat')?\n",
    "#(A)\n",
    "print(bacon.index('cat'))\n",
    "#7. How does bacon.append(99) change the look of the list value in bacon?\n",
    "#(A)\n",
    "bacon.append(99)\n",
    "print(bacon)\n",
    "#8. How does bacon.remove('cat') change the look of the list in bacon?\n",
    "#(A)\n",
    "bacon.remove('cat')\n",
    "print(bacon)"
   ]
  },
  {
   "cell_type": "code",
   "execution_count": 34,
   "metadata": {},
   "outputs": [
    {
     "name": "stdout",
     "output_type": "stream",
     "text": [
      "[1, 2, 3, 4, 5.5, 'boolean', True, 5, 'string', False, 6.77]\n",
      "[4.3, 'book', True, 5, 4.3, 'book', True, 5, 4.3, 'book', True, 5]\n"
     ]
    }
   ],
   "source": [
    "#9. What are the list concatenation and list replication operators?\n",
    "#(A)the word concatinating means mixing the things together in a chain or series\n",
    "#concatnation\n",
    "l1 = [1,2,3,4,5.5,'boolean',True]\n",
    "l2 = [5,\"string\",False,6.77]\n",
    "print(l1+l2)\n",
    "#list replication\n",
    "l3 = [4.3,\"book\",True,5]\n",
    "l4 = l3*3\n",
    "print(l4)"
   ]
  },
  {
   "cell_type": "code",
   "execution_count": 37,
   "metadata": {},
   "outputs": [
    {
     "name": "stdout",
     "output_type": "stream",
     "text": [
      "[4.5, 'string', True, 67]\n",
      "[4.5, 'string', True, 67, 'append']\n",
      "[4.5, 'string', 'insert', True, 67, 'append']\n"
     ]
    }
   ],
   "source": [
    "#10. What is difference between the list methods append() and insert()?\n",
    "#(A)\n",
    "l = [4.5,\"string\",True,67]\n",
    "print(l)\n",
    "l.append(\"append\")\n",
    "print(l) #append method takes one input and adds the variable at the end of the list \n",
    "l.insert(2,\"insert\")\n",
    "print(l)#insert method takes two inputs,a index value and an object and inserts the object just before the index value in the list"
   ]
  },
  {
   "cell_type": "code",
   "execution_count": 44,
   "metadata": {},
   "outputs": [
    {
     "name": "stdout",
     "output_type": "stream",
     "text": [
      "[1, 2, 'string', True, 3.4]\n",
      "[1, 2, 'string', True]\n",
      "[1, 2, 'string']\n"
     ]
    }
   ],
   "source": [
    "#11. What are the two methods for removing items from a list?\n",
    "#(A)\n",
    "#remove() and pop() are the two methods to remove items from the list\n",
    "l = [1,2,\"string\",True,3.4]\n",
    "print(l)\n",
    "l.remove(3.4)\n",
    "print(l)\n",
    "l.pop(3)\n",
    "print(l)\n"
   ]
  },
  {
   "cell_type": "code",
   "execution_count": 46,
   "metadata": {},
   "outputs": [],
   "source": [
    "#12. Describe how list values and string values are identical.\n",
    "#(A)\n",
    "#list and strings are the colletion of ordered items\n",
    "#list are mutable but strings are immutable\n",
    "#in list we can have different kind of data but in string we can only use string data"
   ]
  },
  {
   "cell_type": "code",
   "execution_count": 47,
   "metadata": {},
   "outputs": [],
   "source": [
    "#13. What's the difference between tuples and lists?\n",
    "#(A)\n",
    "#In Python, the list is a type of container in Data Structures, which is used to store multiple data at the same time. \n",
    "#Lists are a useful tool for preserving a sequence of data and further iterating over it. \n",
    "# Tuples is also a sequence data type that can contain elements of different data types, but these are immutable in nature. \n",
    "#In other words, a tuple is a collection of Python objects separated by commas. \n",
    "#The tuple is faster than the list because of static in nature. "
   ]
  },
  {
   "cell_type": "code",
   "execution_count": 50,
   "metadata": {},
   "outputs": [
    {
     "name": "stdout",
     "output_type": "stream",
     "text": [
      "(42,)\n"
     ]
    },
    {
     "data": {
      "text/plain": [
       "tuple"
      ]
     },
     "execution_count": 50,
     "metadata": {},
     "output_type": "execute_result"
    }
   ],
   "source": [
    "#14. How do you type a tuple value that only contains the integer 42?\n",
    "#(A)\n",
    "l = [42]\n",
    "tup = tuple(l)\n",
    "print(tup)\n",
    "type(tup)"
   ]
  },
  {
   "cell_type": "code",
   "execution_count": 55,
   "metadata": {},
   "outputs": [
    {
     "name": "stdout",
     "output_type": "stream",
     "text": [
      "(1, 2, 3.4, 'string', True)\n",
      "[40, 50, 'string']\n"
     ]
    }
   ],
   "source": [
    "#15. How do you get a list value's tuple form? How do you get a tuple value's list form?\n",
    "#(A)\n",
    "l = [1,2,3.4,\"string\",True]\n",
    "tp = tuple(l)\n",
    "print(tp)\n",
    "\n",
    "tp = (40,50,\"string\")\n",
    "l1 = list(tp)\n",
    "print(l1)"
   ]
  },
  {
   "cell_type": "code",
   "execution_count": 56,
   "metadata": {},
   "outputs": [
    {
     "name": "stdout",
     "output_type": "stream",
     "text": [
      "2251441567680\n"
     ]
    }
   ],
   "source": [
    "#16. Variables that \"contain\" list values are not necessarily lists themselves. Instead, what do they contain?\n",
    "#(A)\n",
    "#they contain reference to the list value\n",
    "l = [5,6,7,\"string\"]\n",
    "print(id(l))"
   ]
  },
  {
   "cell_type": "code",
   "execution_count": 29,
   "metadata": {},
   "outputs": [
    {
     "name": "stdout",
     "output_type": "stream",
     "text": [
      "[1, 4, 8, 'string', 5.6] [1, 4, 8, 'string', 5.6]\n",
      "\n",
      "\n",
      "[1, 4, 214, 'string', 5.6] [1, 4, 214, 'string', 5.6]\n",
      "\n",
      "\n",
      "The variable have changed in the mentioned index value\n",
      "\n",
      "\n",
      "[1, 4, 214, 'string', 5.6] [1, 4, 2, 'string', 5.6]\n",
      "\n",
      "\n",
      "The index value in lst2 have changed but in lst1 the value remained same beacuse shallow copy creates a separate memory location \n",
      "\n",
      "\n",
      "[[1, 2, 3, 45], [5, 6, 7, 8]] [[1, 2, 3, 45], [5, 6, 7, 8]]\n",
      "\n",
      "\n",
      "[1, 4, 8] [1, 25, 8]\n",
      "\n",
      "\n",
      "[[1, 2, 3, 4], [5, 6, 7], [8, 9, 10]] [[1, 2, 3, 4], [144, 6, 7], [8, 9, 10]]\n"
     ]
    }
   ],
   "source": [
    "#17. How do you distinguish between copy.copy() and copy.deepcopy()?\n",
    "#(A)\n",
    "#copy.copy() = shallow copy\n",
    "lst1 = [1,4,8,\"string\",5.6]\n",
    "lst2 = lst1\n",
    "print(lst1,lst2)\n",
    "print('\\n')\n",
    "\n",
    "#lets assign a value to a variable in lst1 and lst2\n",
    "lst2[2] = 214\n",
    "print(lst1,lst2)\n",
    "print(\"\\n\")\n",
    "print(\"The variable have changed in the mentioned index value\") #the memory location was changed \n",
    "\n",
    "#lets try by using copy.copy()\n",
    "print(\"\\n\")\n",
    "lst1 = [1,4,8,\"string\",5.6]\n",
    "lst1 = lst2.copy()\n",
    "#now lets try to change the index value\n",
    "lst2[2] = 2\n",
    "print(lst1,lst2)\n",
    "print(\"\\n\")\n",
    "print(\"The index value in lst2 have changed but in lst1 the value remained same beacuse shallow copy creates a separate memory location \") #because shallow copy creates separate memory location\n",
    "\n",
    "#shallow copy nested list\n",
    "lst1 = [[1,2,3,4],[5,6,7,8]]\n",
    "lst2 = lst1.copy()\n",
    "lst1[0][3] = 45\n",
    "print(\"\\n\")\n",
    "print(lst1,lst2)\n",
    "#in nestes list [1,2,3,4] is considered as a one item and inside it the objects can be changeable\n",
    "\n",
    "#deep copy\n",
    "\n",
    "import copy\n",
    "lst1 = [1,4,8]\n",
    "lst2 = copy.deepcopy(lst1)\n",
    "lst2[1] = 25\n",
    "print(\"\\n\")\n",
    "print(lst1,lst2) #in a normal list shallow copy === deep copy\n",
    "\n",
    "lst1 = [[1,2,3,4],[5,6,7],[8,9,10]]\n",
    "lst2 = copy.deepcopy(lst1)\n",
    "lst2[1][0] = 144\n",
    "print(\"\\n\")\n",
    "print(lst1, lst2) # in nested list deep copy != shallow copy\n",
    "\n",
    "#the difference b\\w shallow and deep copy is in nested list deep copy creates a separate memory location  \n"
   ]
  },
  {
   "cell_type": "code",
   "execution_count": null,
   "metadata": {},
   "outputs": [],
   "source": []
  }
 ],
 "metadata": {
  "kernelspec": {
   "display_name": "Python 3",
   "language": "python",
   "name": "python3"
  },
  "language_info": {
   "codemirror_mode": {
    "name": "ipython",
    "version": 3
   },
   "file_extension": ".py",
   "mimetype": "text/x-python",
   "name": "python",
   "nbconvert_exporter": "python",
   "pygments_lexer": "ipython3",
   "version": "3.8.3"
  }
 },
 "nbformat": 4,
 "nbformat_minor": 4
}
