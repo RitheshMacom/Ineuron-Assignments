{
 "cells": [
  {
   "cell_type": "markdown",
   "metadata": {},
   "source": [
    "## Python Basics 12"
   ]
  },
  {
   "cell_type": "markdown",
   "metadata": {},
   "source": [
    "### 1. In what modes should the PdfFileReader() and PdfFileWriter() File objects will be opened?¶"
   ]
  },
  {
   "cell_type": "code",
   "execution_count": 1,
   "metadata": {},
   "outputs": [],
   "source": [
    "#PdfFileReader() = we read it in binary mode {read binary(rb)}\n",
    "#pdfFileWriter() = we read it by using write binary (wb)"
   ]
  },
  {
   "cell_type": "markdown",
   "metadata": {},
   "source": [
    "### 2. From a PdfFileReader object, how do you get a Page object for page 5?"
   ]
  },
  {
   "cell_type": "code",
   "execution_count": 2,
   "metadata": {},
   "outputs": [],
   "source": [
    "#pip install pyPDF2"
   ]
  },
  {
   "cell_type": "code",
   "execution_count": 3,
   "metadata": {},
   "outputs": [],
   "source": [
    "#pip install --upgrade pip"
   ]
  },
  {
   "cell_type": "code",
   "execution_count": 16,
   "metadata": {},
   "outputs": [
    {
     "data": {
      "text/plain": [
       "'around 1:00 am, and my wife, Dolores, had already gone to\\nbed.  But I was feeling so down I couldnÕt sleep.   I Òchan-nel surfedÓ looking for something to occupy my time.   Ituned in to, of all things, an\\ninfomercial.\\nNormally, I would have\\nchanged that channel in a frac-\\ntion of a second, but for some\\nreason, I listened.\\nThe product being peddled\\nwas called The Mental Bankandwas endorsed by actress\\n\\nFlorence Henderson of \\nBrady Bunchfame.  The Mental Bankwas a home-study course that explained how everything\\nwe achieve in life is based upon our subconscious beliefs.I felt so desperate at that point that I decided to go for it.I pulled out my credit card and ordered the program.   \\nThat night in my den was the turning point of my life.\\nBy the way, when I sheepishly told Dolores what I had\\ndone a day or two later, she was shocked.\\nÒYou did what?\\nÓ she asked in amazement.  ItÕs not thatshe objected to the purchase \\nÑ it was just so out of charac-ter for me to buy something like that on impulse... and\\nworse yet, from a TV infomercial! \\nSeveral days later, \\nThe Mental Bankprogram arrived at\\nmy doorstep.  And I was fascinated and excited to begin\\n\\nlearning how our thoughts determine the quality of our\\nlives.  Prior to that time, I had never heard these ideas.\\n\\nUnfortunately, they don\\nÕt teach you this stuff in school!\\nThe Mental Bankprogram spurred me to seek out other\\nmotivational resources.  I began to read books by Napoleon\\n\\nHill, Og Mandino, Norman Vincent Peale and Robert\\n\\nSchuller.  I started reading the Bible on a regular basis.  And\\n\\nI eagerly listened to inspiring audio cassette programs by\\n\\nZig Ziglar, Earl Nightingale and many others.  I felt like a\\n\\nperson who had wandered for days in the desert with a\\n\\nparched throat... and then suddenly found a stream of\\nATTITUDE IS EVERYTHING 6\\n\\n\\n\\n\\nÑDr. Norman Vincent Peale'"
      ]
     },
     "execution_count": 16,
     "metadata": {},
     "output_type": "execute_result"
    }
   ],
   "source": [
    "import PyPDF2 as pdf\n",
    "pdfFileObj = open(\"Attitude.pdf\",'rb')\n",
    "pdfReader = pdf.PdfFileReader(pdfFileObj)\n",
    "pageObj = pdfReader.getPage(5)\n",
    "pageObj.extractText()"
   ]
  },
  {
   "cell_type": "markdown",
   "metadata": {},
   "source": [
    "### 3. What PdfFileReader variable stores the number of pages in the PDF document?"
   ]
  },
  {
   "cell_type": "code",
   "execution_count": 5,
   "metadata": {},
   "outputs": [
    {
     "data": {
      "text/plain": [
       "125"
      ]
     },
     "execution_count": 5,
     "metadata": {},
     "output_type": "execute_result"
    }
   ],
   "source": [
    "import PyPDF2 as pdf\n",
    "pdfFileObj = open(\"Attitude.pdf\",'rb')\n",
    "pdfReader = pdf.PdfFileReader(pdfFileObj)\n",
    "pdfReader.numPages"
   ]
  },
  {
   "cell_type": "markdown",
   "metadata": {},
   "source": [
    "### 4. If a PdfFileReader object’s PDF is encrypted with the password swordfish, what must you do before you can obtain Page objects from it?"
   ]
  },
  {
   "cell_type": "code",
   "execution_count": 6,
   "metadata": {},
   "outputs": [],
   "source": [
    "#Before we obtain the page object, \n",
    "#The pdf has to be decrypted by calling .decrypt('swordfish')\n",
    "#pdfReader.decrypt(\"swordfish\")"
   ]
  },
  {
   "cell_type": "markdown",
   "metadata": {},
   "source": [
    "### 5. What methods do you use to rotate a page?"
   ]
  },
  {
   "cell_type": "code",
   "execution_count": 7,
   "metadata": {},
   "outputs": [],
   "source": [
    "#The rotateClockwise() and rotateCounterClockwise() \n",
    "#The degrees to rotate is passed as an integer argument"
   ]
  },
  {
   "cell_type": "markdown",
   "metadata": {},
   "source": [
    "### 6. What is the difference between a Run object and a Paragraph object?"
   ]
  },
  {
   "cell_type": "code",
   "execution_count": 8,
   "metadata": {},
   "outputs": [],
   "source": [
    "#Paragraph Object :\n",
    "#A document contains multiple paragraphs. A paragraph begins on a new line and contains multiple runs. \n",
    "#The Document object contains a list of Paragraph objects for the paragraphs in the document. (A new paragraph begins \n",
    "#whenever the user presses ENTER or RETURN while typing in a Word document.)\n",
    "\n",
    "#Run Objects :\n",
    "#Runs are contiguous groups of characters within a paragraph with the same style"
   ]
  },
  {
   "cell_type": "markdown",
   "metadata": {},
   "source": [
    "### 7. How do you obtain a list of Paragraph objects for a Document object that’s stored in a variable named doc?"
   ]
  },
  {
   "cell_type": "code",
   "execution_count": 9,
   "metadata": {},
   "outputs": [],
   "source": [
    "#pip install python-docx"
   ]
  },
  {
   "cell_type": "code",
   "execution_count": 10,
   "metadata": {},
   "outputs": [
    {
     "data": {
      "text/plain": [
       "[<docx.text.paragraph.Paragraph at 0x24b44c8c2e0>,\n",
       " <docx.text.paragraph.Paragraph at 0x24b44c8c1c0>,\n",
       " <docx.text.paragraph.Paragraph at 0x24b44c8c3a0>,\n",
       " <docx.text.paragraph.Paragraph at 0x24b44c8c280>,\n",
       " <docx.text.paragraph.Paragraph at 0x24b44c8c460>,\n",
       " <docx.text.paragraph.Paragraph at 0x24b44c8c340>,\n",
       " <docx.text.paragraph.Paragraph at 0x24b44c8c520>,\n",
       " <docx.text.paragraph.Paragraph at 0x24b44c8c490>,\n",
       " <docx.text.paragraph.Paragraph at 0x24b44c8c610>,\n",
       " <docx.text.paragraph.Paragraph at 0x24b44c8c4f0>,\n",
       " <docx.text.paragraph.Paragraph at 0x24b44c8c6a0>,\n",
       " <docx.text.paragraph.Paragraph at 0x24b44c8c4c0>,\n",
       " <docx.text.paragraph.Paragraph at 0x24b44c8c760>,\n",
       " <docx.text.paragraph.Paragraph at 0x24b44c8c640>,\n",
       " <docx.text.paragraph.Paragraph at 0x24b44c8c850>,\n",
       " <docx.text.paragraph.Paragraph at 0x24b44c8c7c0>,\n",
       " <docx.text.paragraph.Paragraph at 0x24b44c8c790>,\n",
       " <docx.text.paragraph.Paragraph at 0x24b44c8c8b0>,\n",
       " <docx.text.paragraph.Paragraph at 0x24b44c8c880>,\n",
       " <docx.text.paragraph.Paragraph at 0x24b44c8c7f0>,\n",
       " <docx.text.paragraph.Paragraph at 0x24b44c8c8e0>,\n",
       " <docx.text.paragraph.Paragraph at 0x24b44c8caf0>,\n",
       " <docx.text.paragraph.Paragraph at 0x24b44c8c9d0>,\n",
       " <docx.text.paragraph.Paragraph at 0x24b44c8cb80>,\n",
       " <docx.text.paragraph.Paragraph at 0x24b44c8c9a0>,\n",
       " <docx.text.paragraph.Paragraph at 0x24b44c8cc40>,\n",
       " <docx.text.paragraph.Paragraph at 0x24b44c8cb20>,\n",
       " <docx.text.paragraph.Paragraph at 0x24b44c8cd00>,\n",
       " <docx.text.paragraph.Paragraph at 0x24b44c8cbe0>,\n",
       " <docx.text.paragraph.Paragraph at 0x24b44c8cdc0>,\n",
       " <docx.text.paragraph.Paragraph at 0x24b44c8cca0>,\n",
       " <docx.text.paragraph.Paragraph at 0x24b44c8ceb0>,\n",
       " <docx.text.paragraph.Paragraph at 0x24b44c8cd60>,\n",
       " <docx.text.paragraph.Paragraph at 0x24b44c8cf40>,\n",
       " <docx.text.paragraph.Paragraph at 0x24b44c8ce20>,\n",
       " <docx.text.paragraph.Paragraph at 0x24b43a05910>,\n",
       " <docx.text.paragraph.Paragraph at 0x24b43a05730>,\n",
       " <docx.text.paragraph.Paragraph at 0x24b44c756d0>,\n",
       " <docx.text.paragraph.Paragraph at 0x24b44c758e0>,\n",
       " <docx.text.paragraph.Paragraph at 0x24b44c75850>,\n",
       " <docx.text.paragraph.Paragraph at 0x24b44c75970>,\n",
       " <docx.text.paragraph.Paragraph at 0x24b44c758b0>,\n",
       " <docx.text.paragraph.Paragraph at 0x24b44c75ca0>,\n",
       " <docx.text.paragraph.Paragraph at 0x24b44c759a0>,\n",
       " <docx.text.paragraph.Paragraph at 0x24b44c75910>,\n",
       " <docx.text.paragraph.Paragraph at 0x24b44c75a00>,\n",
       " <docx.text.paragraph.Paragraph at 0x24b44c75a60>,\n",
       " <docx.text.paragraph.Paragraph at 0x24b44c75ac0>,\n",
       " <docx.text.paragraph.Paragraph at 0x24b44c75b20>,\n",
       " <docx.text.paragraph.Paragraph at 0x24b44c75b80>,\n",
       " <docx.text.paragraph.Paragraph at 0x24b44c75be0>,\n",
       " <docx.text.paragraph.Paragraph at 0x24b44c75d90>,\n",
       " <docx.text.paragraph.Paragraph at 0x24b44c75c70>,\n",
       " <docx.text.paragraph.Paragraph at 0x24b44c75f70>,\n",
       " <docx.text.paragraph.Paragraph at 0x24b44c75df0>,\n",
       " <docx.text.paragraph.Paragraph at 0x24b44c75dc0>,\n",
       " <docx.text.paragraph.Paragraph at 0x24b44c75e50>,\n",
       " <docx.text.paragraph.Paragraph at 0x24b44c75eb0>,\n",
       " <docx.text.paragraph.Paragraph at 0x24b44c75fd0>,\n",
       " <docx.text.paragraph.Paragraph at 0x24b44c75fa0>,\n",
       " <docx.text.paragraph.Paragraph at 0x24b44c75730>,\n",
       " <docx.text.paragraph.Paragraph at 0x24b44c75790>,\n",
       " <docx.text.paragraph.Paragraph at 0x24b44c945e0>,\n",
       " <docx.text.paragraph.Paragraph at 0x24b44c94640>,\n",
       " <docx.text.paragraph.Paragraph at 0x24b44c946a0>,\n",
       " <docx.text.paragraph.Paragraph at 0x24b44c94700>,\n",
       " <docx.text.paragraph.Paragraph at 0x24b44c94760>,\n",
       " <docx.text.paragraph.Paragraph at 0x24b44c947c0>,\n",
       " <docx.text.paragraph.Paragraph at 0x24b44c94820>,\n",
       " <docx.text.paragraph.Paragraph at 0x24b44c94880>,\n",
       " <docx.text.paragraph.Paragraph at 0x24b44c948e0>,\n",
       " <docx.text.paragraph.Paragraph at 0x24b44c94940>,\n",
       " <docx.text.paragraph.Paragraph at 0x24b44c949a0>,\n",
       " <docx.text.paragraph.Paragraph at 0x24b44c94a00>,\n",
       " <docx.text.paragraph.Paragraph at 0x24b44c94a60>,\n",
       " <docx.text.paragraph.Paragraph at 0x24b44c94ac0>,\n",
       " <docx.text.paragraph.Paragraph at 0x24b44c94b20>,\n",
       " <docx.text.paragraph.Paragraph at 0x24b44c94b80>,\n",
       " <docx.text.paragraph.Paragraph at 0x24b44c94be0>,\n",
       " <docx.text.paragraph.Paragraph at 0x24b44c94c40>,\n",
       " <docx.text.paragraph.Paragraph at 0x24b44c94ca0>,\n",
       " <docx.text.paragraph.Paragraph at 0x24b44c94d00>,\n",
       " <docx.text.paragraph.Paragraph at 0x24b44c94d60>,\n",
       " <docx.text.paragraph.Paragraph at 0x24b44c94dc0>,\n",
       " <docx.text.paragraph.Paragraph at 0x24b44c94e20>,\n",
       " <docx.text.paragraph.Paragraph at 0x24b44c94e80>,\n",
       " <docx.text.paragraph.Paragraph at 0x24b44c94ee0>,\n",
       " <docx.text.paragraph.Paragraph at 0x24b44c94f40>,\n",
       " <docx.text.paragraph.Paragraph at 0x24b44c94fa0>,\n",
       " <docx.text.paragraph.Paragraph at 0x24b44c9c040>]"
      ]
     },
     "execution_count": 10,
     "metadata": {},
     "output_type": "execute_result"
    }
   ],
   "source": [
    "import docx\n",
    "doc = docx.Document(\"demo.docx\")\n",
    "doc.paragraphs"
   ]
  },
  {
   "cell_type": "markdown",
   "metadata": {},
   "source": [
    "### 8. What type of object has bold, underline, italic, strike, and outline variables?"
   ]
  },
  {
   "cell_type": "code",
   "execution_count": 11,
   "metadata": {},
   "outputs": [],
   "source": [
    "#A Run Object has bold,underline,italic,strike and outline variables."
   ]
  },
  {
   "cell_type": "markdown",
   "metadata": {},
   "source": [
    "### 9. What is the difference between False, True, and None for the bold variable?"
   ]
  },
  {
   "cell_type": "code",
   "execution_count": 12,
   "metadata": {},
   "outputs": [],
   "source": [
    "#Runs can be further styled using text attributes. Each attribute can be set to one of three values: \n",
    "\n",
    "#True (the attribute is always enabled, no matter what other styles are applied to the run), \n",
    "#False (the attribute is always disabled),\n",
    "#None (defaults to whatever the run’s style is set to)\n",
    "\n",
    "#True always makes the Run object bolded \n",
    "#False makes it always not bolded, no matter what the style’s bold setting is. None will make the Run object just use the style’s bold setting"
   ]
  },
  {
   "cell_type": "markdown",
   "metadata": {},
   "source": [
    "### 10. How do you create a Document object for a new Word document?"
   ]
  },
  {
   "cell_type": "code",
   "execution_count": 13,
   "metadata": {},
   "outputs": [],
   "source": [
    "#By using the docx.Document() function we can create Document Object"
   ]
  },
  {
   "cell_type": "markdown",
   "metadata": {},
   "source": [
    "### 11. How do you add a paragraph with the text 'Hello, there!'' to a Document object stored in a variable named doc?"
   ]
  },
  {
   "cell_type": "code",
   "execution_count": 14,
   "metadata": {},
   "outputs": [],
   "source": [
    "import docx \n",
    "doc = docx.Document()\n",
    "\n",
    "doc.add_paragraph(\"Hello there!\")\n",
    "doc.save(\"hellothere.docx\")"
   ]
  },
  {
   "cell_type": "markdown",
   "metadata": {},
   "source": [
    "### 12. What integers represent the levels of headings available in Word documents?"
   ]
  },
  {
   "cell_type": "code",
   "execution_count": 15,
   "metadata": {},
   "outputs": [],
   "source": [
    "#Integers 0 to 4 represets the levels of headings\n",
    "#The arguments to add_heading() are a string of the heading text and an integer from 0 to 4.\n",
    "\n",
    "#0 - Makes the Heading the Title style,which is used for the top of the document\n",
    "#1 to 4 = Used for various heading levels,with 1 being the main heading and 4 the lowest subheading"
   ]
  },
  {
   "cell_type": "code",
   "execution_count": null,
   "metadata": {},
   "outputs": [],
   "source": []
  }
 ],
 "metadata": {
  "kernelspec": {
   "display_name": "Python 3",
   "language": "python",
   "name": "python3"
  },
  "language_info": {
   "codemirror_mode": {
    "name": "ipython",
    "version": 3
   },
   "file_extension": ".py",
   "mimetype": "text/x-python",
   "name": "python",
   "nbconvert_exporter": "python",
   "pygments_lexer": "ipython3",
   "version": "3.8.3"
  }
 },
 "nbformat": 4,
 "nbformat_minor": 4
}
