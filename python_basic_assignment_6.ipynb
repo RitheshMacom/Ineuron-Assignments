{
 "cells": [
  {
   "cell_type": "markdown",
   "metadata": {},
   "source": [
    "### 1. What are escape characters, and how do you use them?"
   ]
  },
  {
   "cell_type": "markdown",
   "metadata": {},
   "source": [
    "#### In Python strings, the backslash \"\\\" is a special character, also called the \"escape\" character. It is used in representing certain whitespace characters: \"\\t\" is a tab, \"\\n\" is a newline, and \"\\r\" is a carriage return"
   ]
  },
  {
   "cell_type": "code",
   "execution_count": 2,
   "metadata": {},
   "outputs": [],
   "source": [
    "# \\' \"single Quote\"\n",
    "# \\\\  Backslash\n",
    "# \\n  Newline\n",
    "# \\r  Carriage Return\n",
    "# \\t  Tab\n",
    "# \\b  Backspace\n",
    "# \\f Form Feed\n",
    "# \\ooo Octal value\n",
    "# \\xhh Hex value"
   ]
  },
  {
   "cell_type": "code",
   "execution_count": 5,
   "metadata": {},
   "outputs": [
    {
     "name": "stdout",
     "output_type": "stream",
     "text": [
      "Hello\r",
      "World!\n",
      "Hello\n",
      "How are you?\n",
      "Hello\tHow are you?\n",
      "How to print single quotes? 'Single quotes'\n",
      "How to print double quotes? \"Double quotes\" \n",
      "How to print back slash? \\Black slash\\ \n",
      "Example of Back Space !!\b\n",
      "c\n",
      "U\n"
     ]
    }
   ],
   "source": [
    "print(\"Hello\\rWorld!\")\n",
    "print(\"Hello\\nHow are you?\")\n",
    "print(\"Hello\\tHow are you?\")\n",
    "print(\"How to print single quotes? \\'Single quotes\\'\")\n",
    "print(\"How to print double quotes? \\\"Double quotes\\\" \")\n",
    "print(\"How to print back slash? \\\\Black slash\\\\ \")\n",
    "print(\"Example of Back Space !!\\b\")\n",
    "print(\"\\143\") #Octal Representation\n",
    "print(\"\\x55\") #Hexadecimal representation"
   ]
  },
  {
   "cell_type": "markdown",
   "metadata": {},
   "source": [
    "### 2. What do the escape characters n and t stand for?"
   ]
  },
  {
   "cell_type": "markdown",
   "metadata": {},
   "source": [
    "\"\\n\" #Newline\n",
    "\n",
    "\"\\t\" #Tab"
   ]
  },
  {
   "cell_type": "markdown",
   "metadata": {},
   "source": [
    "### 3. What is the way to include backslash characters in a string?"
   ]
  },
  {
   "cell_type": "code",
   "execution_count": 8,
   "metadata": {},
   "outputs": [
    {
     "name": "stdout",
     "output_type": "stream",
     "text": [
      "its a backslash \\ in a sentence\n"
     ]
    }
   ],
   "source": [
    "#Escape it with another \"\\\"\n",
    " \n",
    "print(\"its a backslash \\\\ in a sentence\")    \n"
   ]
  },
  {
   "cell_type": "markdown",
   "metadata": {},
   "source": [
    "###  4. The string \"Howl's Moving Castle\" is a correct value. Why isn't the single quote character in the word Howl's not escaped a problem?"
   ]
  },
  {
   "cell_type": "code",
   "execution_count": 10,
   "metadata": {},
   "outputs": [
    {
     "name": "stdout",
     "output_type": "stream",
     "text": [
      "Howl's Moving Castle\n",
      "Howl\"s Moving Castle\n"
     ]
    }
   ],
   "source": [
    "#The single quote in Howl's is fine because you've used double quotes to mark the beginning and end of the string. \n",
    "#like wise we can use double quotes in with single quotes out.\n",
    "print(\"Howl's Moving Castle\")\n",
    "print('Howl\"s Moving Castle')"
   ]
  },
  {
   "cell_type": "markdown",
   "metadata": {},
   "source": [
    "### 5. How do you write a string of newlines if you don't want to use the n character?¶\n"
   ]
  },
  {
   "cell_type": "code",
   "execution_count": 29,
   "metadata": {},
   "outputs": [
    {
     "name": "stdout",
     "output_type": "stream",
     "text": [
      "Python programming \n",
      "Data science \n",
      "Machine learning\n",
      "print something\n",
      "new line\n"
     ]
    }
   ],
   "source": [
    "#By using the multiline comments we can write string of new line\n",
    "print('''Python programming \n",
    "Data science \n",
    "Machine learning''')\n",
    "#we can also use end = \"\\n\"\n",
    "print(\"print something\", end ='\\n')\n",
    "print(\"new line\")\n"
   ]
  },
  {
   "cell_type": "markdown",
   "metadata": {},
   "source": [
    "### 6. What are the values of the given expressions?\n"
   ]
  },
  {
   "cell_type": "code",
   "execution_count": 32,
   "metadata": {},
   "outputs": [
    {
     "name": "stdout",
     "output_type": "stream",
     "text": [
      "e\n",
      "Hello\n",
      "Hello\n",
      "lo, world!\n"
     ]
    }
   ],
   "source": [
    "print('Hello, world!'[1])\n",
    "print('Hello, world!'[0:5])\n",
    "print('Hello, world!'[:5])\n",
    "print('Hello, world!'[3:])"
   ]
  },
  {
   "cell_type": "markdown",
   "metadata": {},
   "source": [
    "### 7. What are the values of the following expressions?\n",
    "'Hello'.upper()\n",
    "\n",
    "'Hello'.upper().isupper()\n",
    "\n",
    "'Hello'.upper().lower()"
   ]
  },
  {
   "cell_type": "code",
   "execution_count": 35,
   "metadata": {},
   "outputs": [
    {
     "name": "stdout",
     "output_type": "stream",
     "text": [
      "HELLO\n",
      "True\n",
      "hello\n"
     ]
    }
   ],
   "source": [
    "print('Hello'.upper())\n",
    "print('Hello'.upper().isupper())\n",
    "print('Hello'.upper().lower())"
   ]
  },
  {
   "cell_type": "markdown",
   "metadata": {},
   "source": [
    "### 8. What are the values of the following expressions? \n",
    "'Remember, remember, the fifth of July.'.split()\n",
    "\n",
    "'-'.join('There can only one.'.split())"
   ]
  },
  {
   "cell_type": "code",
   "execution_count": 37,
   "metadata": {},
   "outputs": [
    {
     "name": "stdout",
     "output_type": "stream",
     "text": [
      "['Remember,', 'remember,', 'the', 'fifth', 'of', 'July.']\n",
      "There-can-only-one.\n"
     ]
    }
   ],
   "source": [
    "print('Remember, remember, the fifth of July.'.split())\n",
    "print('-'.join('There can only one.'.split()))"
   ]
  },
  {
   "cell_type": "markdown",
   "metadata": {},
   "source": [
    "### 9. What are the methods for right-justifying, left-justifying, and centering a string?\n"
   ]
  },
  {
   "cell_type": "code",
   "execution_count": 42,
   "metadata": {},
   "outputs": [
    {
     "name": "stdout",
     "output_type": "stream",
     "text": [
      "Left justified                \n",
      "               Right justified\n",
      "  center justified  \n"
     ]
    }
   ],
   "source": [
    "string = \"Left justified\"\n",
    "string2 = \"Right justified\"\n",
    "string3 = \"center justified\"\n",
    "\n",
    "\n",
    "print(string.ljust(30))\n",
    "print(string2.rjust(30))\n",
    "print(string3.center(20))"
   ]
  },
  {
   "cell_type": "markdown",
   "metadata": {},
   "source": [
    "### 10. What is the best way to remove whitespace characters from the start or end?"
   ]
  },
  {
   "cell_type": "code",
   "execution_count": 51,
   "metadata": {},
   "outputs": [],
   "source": [
    "#strip() use to remove whitespace characters from start and end\n",
    "#lstrip() use to remove whitespace characters from left of the string\n",
    "#rstrip() use to remove whitespace characters from right of the string"
   ]
  },
  {
   "cell_type": "code",
   "execution_count": 49,
   "metadata": {},
   "outputs": [
    {
     "data": {
      "text/plain": [
       "'hello world its chitti '"
      ]
     },
     "execution_count": 49,
     "metadata": {},
     "output_type": "execute_result"
    }
   ],
   "source": [
    "str = \" hello world its chitti \"\n",
    "str.lstrip()"
   ]
  },
  {
   "cell_type": "code",
   "execution_count": 50,
   "metadata": {},
   "outputs": [
    {
     "data": {
      "text/plain": [
       "' hello world its chitti'"
      ]
     },
     "execution_count": 50,
     "metadata": {},
     "output_type": "execute_result"
    }
   ],
   "source": [
    "str = \" hello world its chitti \"\n",
    "str.rstrip()"
   ]
  },
  {
   "cell_type": "code",
   "execution_count": null,
   "metadata": {},
   "outputs": [],
   "source": []
  }
 ],
 "metadata": {
  "kernelspec": {
   "display_name": "Python 3",
   "language": "python",
   "name": "python3"
  },
  "language_info": {
   "codemirror_mode": {
    "name": "ipython",
    "version": 3
   },
   "file_extension": ".py",
   "mimetype": "text/x-python",
   "name": "python",
   "nbconvert_exporter": "python",
   "pygments_lexer": "ipython3",
   "version": "3.8.3"
  }
 },
 "nbformat": 4,
 "nbformat_minor": 4
}
