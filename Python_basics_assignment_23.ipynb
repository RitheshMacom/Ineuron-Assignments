{
 "cells": [
  {
   "cell_type": "markdown",
   "id": "0b007094",
   "metadata": {},
   "source": [
    "## Python Basics 23"
   ]
  },
  {
   "cell_type": "markdown",
   "id": "0b7babbd",
   "metadata": {},
   "source": [
    "### 1.What is the result of the code,and why?\n",
    "def func(a,b=6,c=8):\n",
    "\n",
    "    print(a,b,c)\n",
    "\n",
    "func(1,2)"
   ]
  },
  {
   "cell_type": "code",
   "execution_count": 2,
   "id": "e45bd2a1",
   "metadata": {},
   "outputs": [
    {
     "name": "stdout",
     "output_type": "stream",
     "text": [
      "1 2 8\n"
     ]
    }
   ],
   "source": [
    "def func(a,b=6,c=8):\n",
    "    print(a,b,c)\n",
    "func(1,2)    "
   ]
  },
  {
   "cell_type": "code",
   "execution_count": 3,
   "id": "b482b8a5",
   "metadata": {},
   "outputs": [],
   "source": [
    "#The func(1,2) is called the parameters a is assigned the value 1 and b is assigned the value 2\n",
    "#Even though it 'b' has a default value 6,As no third value is passed,the third [arameter 'c' retains its default value 8\n",
    "#Default values will be used only when the value for that argument is not passed \n",
    "#Hence, the result 1,2,8 is printed"
   ]
  },
  {
   "cell_type": "markdown",
   "id": "404d5567",
   "metadata": {},
   "source": [
    "### 2. What is the result of this code, and why?\n",
    "def func(a, b, c=5):\n",
    "\n",
    "    print(a, b, c)\n",
    "func(1, c=3, b=2)"
   ]
  },
  {
   "cell_type": "code",
   "execution_count": 6,
   "id": "b00015c9",
   "metadata": {},
   "outputs": [
    {
     "name": "stdout",
     "output_type": "stream",
     "text": [
      "1 2 3\n"
     ]
    }
   ],
   "source": [
    "def func(a,b,c=5):\n",
    "    print(a,b,c)\n",
    "func(1,c=3,b=2)    \n"
   ]
  },
  {
   "cell_type": "code",
   "execution_count": 7,
   "id": "db2da23f",
   "metadata": {},
   "outputs": [],
   "source": [
    "#As the values are passed by values, func(1,c=3,b=2), a is assigned value 1, \n",
    "#and as c is assigned value 3 and b is assigned value 2, explicitly during function call,\n",
    "#those values are passed to parameter c and b parameters respectively in func().\n",
    "#Hence the result 1 2 3\n",
    "#When we make function call, order will be positional argument and then keywords arguments.\n",
    "#we can pass the keyword arguments in any order we want."
   ]
  },
  {
   "cell_type": "markdown",
   "id": "6344b2f9",
   "metadata": {},
   "source": [
    "### 3. How about this code: what is its result, and why?\n",
    "def func(a, *pargs):\n",
    "\n",
    "    print(a, pargs)\n",
    "func(1, 2, 3)"
   ]
  },
  {
   "cell_type": "code",
   "execution_count": 8,
   "id": "d31419c2",
   "metadata": {},
   "outputs": [
    {
     "name": "stdout",
     "output_type": "stream",
     "text": [
      "1 (2, 3)\n"
     ]
    }
   ],
   "source": [
    "def func(a, *pargs):\n",
    "    print(a, pargs)\n",
    "func(1, 2, 3)"
   ]
  },
  {
   "cell_type": "code",
   "execution_count": 9,
   "id": "4a9e03d4",
   "metadata": {},
   "outputs": [],
   "source": [
    "#The return type of *args parameter is tuple, where as **kargs will be dictionary\n",
    "#*Pargs uses a tuple to hold the values,Hence the value 1 and tiple (2,3) is printed as 1 (2,3)."
   ]
  },
  {
   "cell_type": "markdown",
   "id": "eadff39e",
   "metadata": {},
   "source": [
    "### 4. What does this code print, and why?\n",
    "def func(a, **kargs):\n",
    "\n",
    "    print(a, kargs)\n",
    "func(a=1, c=3, b=2)"
   ]
  },
  {
   "cell_type": "code",
   "execution_count": 10,
   "id": "d77818fc",
   "metadata": {},
   "outputs": [
    {
     "name": "stdout",
     "output_type": "stream",
     "text": [
      "1 {'c': 3, 'b': 2}\n"
     ]
    }
   ],
   "source": [
    "def func(a, **kargs):\n",
    "    print(a, kargs)\n",
    "func(a=1, c=3, b=2)"
   ]
  },
  {
   "cell_type": "code",
   "execution_count": 11,
   "id": "9fc788f2",
   "metadata": {},
   "outputs": [],
   "source": [
    "#**Kargs uses dictionary to hold keyword value\n",
    "#Positional parameter a in func() is passed the value 1.\n",
    "# The **kargs is a variable keyword arguments which hold the variable number key word parameters.\n",
    "#Hence, the resullt 1  {'c':3,'b':2}"
   ]
  },
  {
   "cell_type": "markdown",
   "id": "66a94cb4",
   "metadata": {},
   "source": [
    "### 5. What gets printed by this, and explain?\n",
    "def func(a, b, c=8, d=5): \n",
    "\n",
    "    print(a, b, c, d)\n",
    "func(1, *(5, 6))"
   ]
  },
  {
   "cell_type": "code",
   "execution_count": 12,
   "id": "966e3ada",
   "metadata": {},
   "outputs": [
    {
     "name": "stdout",
     "output_type": "stream",
     "text": [
      "1 5 6 5\n"
     ]
    }
   ],
   "source": [
    "def func(a, b, c=8, d=5): \n",
    "    print(a, b, c, d)\n",
    "func(1, *(5, 6))"
   ]
  },
  {
   "cell_type": "code",
   "execution_count": 13,
   "id": "15293908",
   "metadata": {},
   "outputs": [],
   "source": [
    "# '*' is the unpacking operator and are operators that unpack the values from iterable objects in Python. \n",
    "#The single  asterisk operator * can be used on any iterable that Python provides, while the double asterisk operator ** can only be used on dictionaries.\n",
    "#In the example the value *(5,6) will be unpacked and will be assigned to b and c and passed \n",
    "#as arguments, d =5 will taken by defaults are keyword arguments."
   ]
  },
  {
   "cell_type": "markdown",
   "id": "02b257e9",
   "metadata": {},
   "source": [
    "### 6. what is the result of this, and explain?\n",
    "def func(a, b, c): \n",
    "\n",
    "    a = 2; b[0] = 'x'; c['a'] = 'y'\n",
    "\n",
    "l=1; m=[1]; n={'a':0}\n",
    "\n",
    "print(l,m,n)\n",
    "\n",
    "func(l, m, n)\n",
    "\n",
    "\n",
    "l, m, n"
   ]
  },
  {
   "cell_type": "code",
   "execution_count": 14,
   "id": "fcb272ed",
   "metadata": {},
   "outputs": [
    {
     "data": {
      "text/plain": [
       "(1, ['x'], {'a': 'y'})"
      ]
     },
     "execution_count": 14,
     "metadata": {},
     "output_type": "execute_result"
    }
   ],
   "source": [
    "def func(a, b, c): \n",
    "    a = 2; b[0] = 'x'; c['a'] = 'y'\n",
    "    \n",
    "l=1; m=[1]; n={'a':0}\n",
    "func(l, m, n)\n",
    "\n",
    "l, m, n"
   ]
  },
  {
   "cell_type": "code",
   "execution_count": 15,
   "id": "5ba476bd",
   "metadata": {},
   "outputs": [],
   "source": [
    "#Objects such as integers and strings are passed by object reference (assignment), \n",
    "# but since you can’t change immutable objects in place anyhow, the effect is much like making a copy. \n",
    "# So when l=1 is passed by assignment to parameter a, and hence even if it is changed within the function it is local and object itself isnt changed.\n",
    "#Objects such as lists and dictionaries are passed by object reference too, mutable objects can be changed in place in the function.\n",
    "#Hence when m=[1] , a list and n={'a':0} , a dictionary, are passed to the parameters b and c of function func(),and the function\n",
    "# modifies it and it in turn modifies the actual mutable objects the list m and dictionary n.\n",
    "#Hence,the result is (1, ['x'], {'a': 'y'})"
   ]
  },
  {
   "cell_type": "code",
   "execution_count": null,
   "id": "54dcf3d4",
   "metadata": {},
   "outputs": [],
   "source": []
  }
 ],
 "metadata": {
  "kernelspec": {
   "display_name": "Python 3",
   "language": "python",
   "name": "python3"
  },
  "language_info": {
   "codemirror_mode": {
    "name": "ipython",
    "version": 3
   },
   "file_extension": ".py",
   "mimetype": "text/x-python",
   "name": "python",
   "nbconvert_exporter": "python",
   "pygments_lexer": "ipython3",
   "version": "3.8.8"
  }
 },
 "nbformat": 4,
 "nbformat_minor": 5
}
